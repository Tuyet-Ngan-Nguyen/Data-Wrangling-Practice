{
 "cells": [
  {
   "cell_type": "code",
   "execution_count": 16,
   "metadata": {},
   "outputs": [],
   "source": [
    "import pandas as pd\n",
    "import numpy as np\n"
   ]
  },
  {
   "cell_type": "code",
   "execution_count": 3,
   "metadata": {},
   "outputs": [],
   "source": [
    "# import data\n",
    "prices = pd.read_csv('prices.csv')\n",
    "sales = pd.read_csv('sales.csv')"
   ]
  },
  {
   "cell_type": "code",
   "execution_count": 4,
   "metadata": {},
   "outputs": [
    {
     "name": "stdout",
     "output_type": "stream",
     "text": [
      "<class 'pandas.core.frame.DataFrame'>\n",
      "RangeIndex: 175 entries, 0 to 174\n",
      "Data columns (total 3 columns):\n",
      " #   Column            Non-Null Count  Dtype \n",
      "---  ------            --------------  ----- \n",
      " 0   product_id        175 non-null    int64 \n",
      " 1   ordered_at        175 non-null    object\n",
      " 2   quantity_ordered  175 non-null    int64 \n",
      "dtypes: int64(2), object(1)\n",
      "memory usage: 4.2+ KB\n"
     ]
    }
   ],
   "source": [
    "sales.info()"
   ]
  },
  {
   "cell_type": "code",
   "execution_count": 13,
   "metadata": {},
   "outputs": [],
   "source": [
    "#convert objetc to datetime\n",
    "sales['ordered_at'] = pd.to_datetime(sales['ordered_at'])\n",
    "prices['updated_at'] = pd.to_datetime(prices['updated_at'])"
   ]
  },
  {
   "cell_type": "code",
   "execution_count": 6,
   "metadata": {},
   "outputs": [
    {
     "name": "stdout",
     "output_type": "stream",
     "text": [
      "<class 'pandas.core.frame.DataFrame'>\n",
      "RangeIndex: 175 entries, 0 to 174\n",
      "Data columns (total 3 columns):\n",
      " #   Column            Non-Null Count  Dtype         \n",
      "---  ------            --------------  -----         \n",
      " 0   product_id        175 non-null    int64         \n",
      " 1   ordered_at        175 non-null    datetime64[ns]\n",
      " 2   quantity_ordered  175 non-null    int64         \n",
      "dtypes: datetime64[ns](1), int64(2)\n",
      "memory usage: 4.2 KB\n"
     ]
    }
   ],
   "source": [
    "sales.info()"
   ]
  },
  {
   "cell_type": "code",
   "execution_count": 7,
   "metadata": {},
   "outputs": [
    {
     "data": {
      "text/html": [
       "<div>\n",
       "<style scoped>\n",
       "    .dataframe tbody tr th:only-of-type {\n",
       "        vertical-align: middle;\n",
       "    }\n",
       "\n",
       "    .dataframe tbody tr th {\n",
       "        vertical-align: top;\n",
       "    }\n",
       "\n",
       "    .dataframe thead th {\n",
       "        text-align: right;\n",
       "    }\n",
       "</style>\n",
       "<table border=\"1\" class=\"dataframe\">\n",
       "  <thead>\n",
       "    <tr style=\"text-align: right;\">\n",
       "      <th></th>\n",
       "      <th>product_id</th>\n",
       "      <th>ordered_at</th>\n",
       "      <th>quantity_ordered</th>\n",
       "    </tr>\n",
       "  </thead>\n",
       "  <tbody>\n",
       "    <tr>\n",
       "      <th>0</th>\n",
       "      <td>3998909</td>\n",
       "      <td>2018-09-18 17:51:00</td>\n",
       "      <td>1</td>\n",
       "    </tr>\n",
       "    <tr>\n",
       "      <th>1</th>\n",
       "      <td>3998909</td>\n",
       "      <td>2018-09-18 12:52:00</td>\n",
       "      <td>1</td>\n",
       "    </tr>\n",
       "    <tr>\n",
       "      <th>2</th>\n",
       "      <td>3998909</td>\n",
       "      <td>2018-09-18 11:33:00</td>\n",
       "      <td>1</td>\n",
       "    </tr>\n",
       "    <tr>\n",
       "      <th>3</th>\n",
       "      <td>3998909</td>\n",
       "      <td>2018-09-18 18:47:00</td>\n",
       "      <td>1</td>\n",
       "    </tr>\n",
       "    <tr>\n",
       "      <th>4</th>\n",
       "      <td>3998909</td>\n",
       "      <td>2018-09-18 17:36:00</td>\n",
       "      <td>1</td>\n",
       "    </tr>\n",
       "  </tbody>\n",
       "</table>\n",
       "</div>"
      ],
      "text/plain": [
       "   product_id          ordered_at  quantity_ordered\n",
       "0     3998909 2018-09-18 17:51:00                 1\n",
       "1     3998909 2018-09-18 12:52:00                 1\n",
       "2     3998909 2018-09-18 11:33:00                 1\n",
       "3     3998909 2018-09-18 18:47:00                 1\n",
       "4     3998909 2018-09-18 17:36:00                 1"
      ]
     },
     "execution_count": 7,
     "metadata": {},
     "output_type": "execute_result"
    }
   ],
   "source": [
    "sales.head()"
   ]
  },
  {
   "cell_type": "code",
   "execution_count": 8,
   "metadata": {},
   "outputs": [
    {
     "data": {
      "text/html": [
       "<div>\n",
       "<style scoped>\n",
       "    .dataframe tbody tr th:only-of-type {\n",
       "        vertical-align: middle;\n",
       "    }\n",
       "\n",
       "    .dataframe tbody tr th {\n",
       "        vertical-align: top;\n",
       "    }\n",
       "\n",
       "    .dataframe thead th {\n",
       "        text-align: right;\n",
       "    }\n",
       "</style>\n",
       "<table border=\"1\" class=\"dataframe\">\n",
       "  <thead>\n",
       "    <tr style=\"text-align: right;\">\n",
       "      <th></th>\n",
       "      <th>product_id</th>\n",
       "      <th>old_price</th>\n",
       "      <th>new_price</th>\n",
       "      <th>updated_at</th>\n",
       "    </tr>\n",
       "  </thead>\n",
       "  <tbody>\n",
       "    <tr>\n",
       "      <th>0</th>\n",
       "      <td>64</td>\n",
       "      <td>270000</td>\n",
       "      <td>239000</td>\n",
       "      <td>9/10/18 16:37</td>\n",
       "    </tr>\n",
       "    <tr>\n",
       "      <th>1</th>\n",
       "      <td>3954203</td>\n",
       "      <td>60000</td>\n",
       "      <td>64000</td>\n",
       "      <td>9/11/18 11:54</td>\n",
       "    </tr>\n",
       "    <tr>\n",
       "      <th>2</th>\n",
       "      <td>3954203</td>\n",
       "      <td>60500</td>\n",
       "      <td>57500</td>\n",
       "      <td>9/17/18 22:59</td>\n",
       "    </tr>\n",
       "    <tr>\n",
       "      <th>3</th>\n",
       "      <td>3954203</td>\n",
       "      <td>64000</td>\n",
       "      <td>60500</td>\n",
       "      <td>9/15/18 3:49</td>\n",
       "    </tr>\n",
       "    <tr>\n",
       "      <th>4</th>\n",
       "      <td>3954203</td>\n",
       "      <td>68800</td>\n",
       "      <td>60000</td>\n",
       "      <td>9/10/18 16:32</td>\n",
       "    </tr>\n",
       "  </tbody>\n",
       "</table>\n",
       "</div>"
      ],
      "text/plain": [
       "   product_id  old_price  new_price     updated_at\n",
       "0          64     270000     239000  9/10/18 16:37\n",
       "1     3954203      60000      64000  9/11/18 11:54\n",
       "2     3954203      60500      57500  9/17/18 22:59\n",
       "3     3954203      64000      60500   9/15/18 3:49\n",
       "4     3954203      68800      60000  9/10/18 16:32"
      ]
     },
     "execution_count": 8,
     "metadata": {},
     "output_type": "execute_result"
    }
   ],
   "source": [
    "prices.head()"
   ]
  },
  {
   "cell_type": "code",
   "execution_count": 11,
   "metadata": {},
   "outputs": [
    {
     "data": {
      "text/html": [
       "<div>\n",
       "<style scoped>\n",
       "    .dataframe tbody tr th:only-of-type {\n",
       "        vertical-align: middle;\n",
       "    }\n",
       "\n",
       "    .dataframe tbody tr th {\n",
       "        vertical-align: top;\n",
       "    }\n",
       "\n",
       "    .dataframe thead th {\n",
       "        text-align: right;\n",
       "    }\n",
       "</style>\n",
       "<table border=\"1\" class=\"dataframe\">\n",
       "  <thead>\n",
       "    <tr style=\"text-align: right;\">\n",
       "      <th></th>\n",
       "      <th>product_id</th>\n",
       "      <th>ordered_at</th>\n",
       "      <th>quantity_ordered</th>\n",
       "    </tr>\n",
       "  </thead>\n",
       "  <tbody>\n",
       "    <tr>\n",
       "      <th>13</th>\n",
       "      <td>3954203</td>\n",
       "      <td>2018-09-11 13:32:00</td>\n",
       "      <td>1</td>\n",
       "    </tr>\n",
       "    <tr>\n",
       "      <th>14</th>\n",
       "      <td>3954203</td>\n",
       "      <td>2018-09-11 17:00:00</td>\n",
       "      <td>1</td>\n",
       "    </tr>\n",
       "    <tr>\n",
       "      <th>15</th>\n",
       "      <td>3954203</td>\n",
       "      <td>2018-09-11 18:26:00</td>\n",
       "      <td>1</td>\n",
       "    </tr>\n",
       "    <tr>\n",
       "      <th>16</th>\n",
       "      <td>3954203</td>\n",
       "      <td>2018-09-11 14:13:00</td>\n",
       "      <td>1</td>\n",
       "    </tr>\n",
       "    <tr>\n",
       "      <th>17</th>\n",
       "      <td>3954203</td>\n",
       "      <td>2018-09-11 15:10:00</td>\n",
       "      <td>1</td>\n",
       "    </tr>\n",
       "    <tr>\n",
       "      <th>18</th>\n",
       "      <td>3954203</td>\n",
       "      <td>2018-09-12 19:16:00</td>\n",
       "      <td>1</td>\n",
       "    </tr>\n",
       "    <tr>\n",
       "      <th>19</th>\n",
       "      <td>3954203</td>\n",
       "      <td>2018-09-11 14:58:00</td>\n",
       "      <td>1</td>\n",
       "    </tr>\n",
       "    <tr>\n",
       "      <th>20</th>\n",
       "      <td>3954203</td>\n",
       "      <td>2018-09-11 12:26:00</td>\n",
       "      <td>1</td>\n",
       "    </tr>\n",
       "    <tr>\n",
       "      <th>21</th>\n",
       "      <td>3954203</td>\n",
       "      <td>2018-09-11 16:00:00</td>\n",
       "      <td>1</td>\n",
       "    </tr>\n",
       "    <tr>\n",
       "      <th>22</th>\n",
       "      <td>3954203</td>\n",
       "      <td>2018-09-11 15:27:00</td>\n",
       "      <td>1</td>\n",
       "    </tr>\n",
       "    <tr>\n",
       "      <th>24</th>\n",
       "      <td>3954203</td>\n",
       "      <td>2018-09-11 11:11:00</td>\n",
       "      <td>1</td>\n",
       "    </tr>\n",
       "    <tr>\n",
       "      <th>25</th>\n",
       "      <td>3954203</td>\n",
       "      <td>2018-09-11 11:11:00</td>\n",
       "      <td>1</td>\n",
       "    </tr>\n",
       "    <tr>\n",
       "      <th>86</th>\n",
       "      <td>3954203</td>\n",
       "      <td>2018-09-11 01:43:00</td>\n",
       "      <td>1</td>\n",
       "    </tr>\n",
       "    <tr>\n",
       "      <th>87</th>\n",
       "      <td>3954203</td>\n",
       "      <td>2018-09-18 21:26:00</td>\n",
       "      <td>1</td>\n",
       "    </tr>\n",
       "  </tbody>\n",
       "</table>\n",
       "</div>"
      ],
      "text/plain": [
       "    product_id          ordered_at  quantity_ordered\n",
       "13     3954203 2018-09-11 13:32:00                 1\n",
       "14     3954203 2018-09-11 17:00:00                 1\n",
       "15     3954203 2018-09-11 18:26:00                 1\n",
       "16     3954203 2018-09-11 14:13:00                 1\n",
       "17     3954203 2018-09-11 15:10:00                 1\n",
       "18     3954203 2018-09-12 19:16:00                 1\n",
       "19     3954203 2018-09-11 14:58:00                 1\n",
       "20     3954203 2018-09-11 12:26:00                 1\n",
       "21     3954203 2018-09-11 16:00:00                 1\n",
       "22     3954203 2018-09-11 15:27:00                 1\n",
       "24     3954203 2018-09-11 11:11:00                 1\n",
       "25     3954203 2018-09-11 11:11:00                 1\n",
       "86     3954203 2018-09-11 01:43:00                 1\n",
       "87     3954203 2018-09-18 21:26:00                 1"
      ]
     },
     "execution_count": 11,
     "metadata": {},
     "output_type": "execute_result"
    }
   ],
   "source": [
    "sales[sales.product_id==3954203]"
   ]
  },
  {
   "cell_type": "code",
   "execution_count": 14,
   "metadata": {},
   "outputs": [
    {
     "data": {
      "text/html": [
       "<div>\n",
       "<style scoped>\n",
       "    .dataframe tbody tr th:only-of-type {\n",
       "        vertical-align: middle;\n",
       "    }\n",
       "\n",
       "    .dataframe tbody tr th {\n",
       "        vertical-align: top;\n",
       "    }\n",
       "\n",
       "    .dataframe thead th {\n",
       "        text-align: right;\n",
       "    }\n",
       "</style>\n",
       "<table border=\"1\" class=\"dataframe\">\n",
       "  <thead>\n",
       "    <tr style=\"text-align: right;\">\n",
       "      <th></th>\n",
       "      <th>product_id</th>\n",
       "      <th>old_price</th>\n",
       "      <th>new_price</th>\n",
       "      <th>updated_at</th>\n",
       "    </tr>\n",
       "  </thead>\n",
       "  <tbody>\n",
       "    <tr>\n",
       "      <th>1</th>\n",
       "      <td>3954203</td>\n",
       "      <td>60000</td>\n",
       "      <td>64000</td>\n",
       "      <td>2018-09-11 11:54:00</td>\n",
       "    </tr>\n",
       "    <tr>\n",
       "      <th>2</th>\n",
       "      <td>3954203</td>\n",
       "      <td>60500</td>\n",
       "      <td>57500</td>\n",
       "      <td>2018-09-17 22:59:00</td>\n",
       "    </tr>\n",
       "    <tr>\n",
       "      <th>3</th>\n",
       "      <td>3954203</td>\n",
       "      <td>64000</td>\n",
       "      <td>60500</td>\n",
       "      <td>2018-09-15 03:49:00</td>\n",
       "    </tr>\n",
       "    <tr>\n",
       "      <th>4</th>\n",
       "      <td>3954203</td>\n",
       "      <td>68800</td>\n",
       "      <td>60000</td>\n",
       "      <td>2018-09-10 16:32:00</td>\n",
       "    </tr>\n",
       "  </tbody>\n",
       "</table>\n",
       "</div>"
      ],
      "text/plain": [
       "   product_id  old_price  new_price          updated_at\n",
       "1     3954203      60000      64000 2018-09-11 11:54:00\n",
       "2     3954203      60500      57500 2018-09-17 22:59:00\n",
       "3     3954203      64000      60500 2018-09-15 03:49:00\n",
       "4     3954203      68800      60000 2018-09-10 16:32:00"
      ]
     },
     "execution_count": 14,
     "metadata": {},
     "output_type": "execute_result"
    }
   ],
   "source": [
    "prices[prices.product_id==3954203]"
   ]
  },
  {
   "cell_type": "code",
   "execution_count": 22,
   "metadata": {},
   "outputs": [],
   "source": [
    "#def function that return closest price base on product id and order_date\n",
    "def closest_update_date (id, order_date):\n",
    "    new_date = prices['updated_at'][prices['product_id'] == id]\n",
    "    if order_date < new_date.min():\n",
    "        closest_date = new_date.min()\n",
    "    else:\n",
    "        closest_date = new_date[order_date > new_date].max()\n",
    "    return closest_date"
   ]
  },
  {
   "cell_type": "code",
   "execution_count": 24,
   "metadata": {},
   "outputs": [],
   "source": [
    "#def function that return closest price base on product id and order_date\n",
    "def return_closest_price(id,order_date):\n",
    "    day = closest_update_date(id,order_date)\n",
    "    if order_date < day:\n",
    "        closest_price = prices['old_price'][(prices['updated_at']==day) & (prices['product_id']==id)].values[0]\n",
    "    else: \n",
    "        closest_price = prices['new_price'][(prices['updated_at']==day) & (prices['product_id'] == id)].values[0]\n",
    "    return closest_price\n",
    "\n",
    "                                                                                                               "
   ]
  },
  {
   "cell_type": "code",
   "execution_count": 25,
   "metadata": {},
   "outputs": [],
   "source": [
    "#find price corresponding each row and append to update_price array\n",
    "update_price =[]\n",
    "for i in np.arange(len(sales)):\n",
    "    updated_price = return_closest_price(sales.iloc[i]['product_id'], sales.iloc[i]['ordered_at'])\n",
    "    update_price.append(updated_price)\n",
    "    "
   ]
  },
  {
   "cell_type": "code",
   "execution_count": 26,
   "metadata": {},
   "outputs": [],
   "source": [
    "#create and calculate price and revenue column \n",
    "sales['price'] = update_price\n",
    "sales['revenue'] = sales['price']*sales['quantity_ordered']"
   ]
  },
  {
   "cell_type": "code",
   "execution_count": 27,
   "metadata": {},
   "outputs": [
    {
     "name": "stdout",
     "output_type": "stream",
     "text": [
      "     product_id          ordered_at  quantity_ordered   price  revenue\n",
      "0       3998909 2018-09-18 17:51:00                 1   16500    16500\n",
      "1       3998909 2018-09-18 12:52:00                 1   16500    16500\n",
      "2       3998909 2018-09-18 11:33:00                 1   16500    16500\n",
      "3       3998909 2018-09-18 18:47:00                 1   16500    16500\n",
      "4       3998909 2018-09-18 17:36:00                 1   16500    16500\n",
      "..          ...                 ...               ...     ...      ...\n",
      "170     4085861 2018-09-13 23:29:00                 1   62500    62500\n",
      "171          64 2018-09-11 19:32:00                 1  239000   239000\n",
      "172          64 2018-09-14 20:10:00                 1  239000   239000\n",
      "173          64 2018-09-12 16:00:00                 1  239000   239000\n",
      "174          64 2018-09-12 13:23:00                 1  239000   239000\n",
      "\n",
      "[175 rows x 5 columns]\n"
     ]
    }
   ],
   "source": [
    "#export to csv file\n",
    "print(sales)\n",
    "sales.to_csv(\"revenue.csv\")"
   ]
  }
 ],
 "metadata": {
  "kernelspec": {
   "display_name": "Python 3",
   "language": "python",
   "name": "python3"
  },
  "language_info": {
   "codemirror_mode": {
    "name": "ipython",
    "version": 3
   },
   "file_extension": ".py",
   "mimetype": "text/x-python",
   "name": "python",
   "nbconvert_exporter": "python",
   "pygments_lexer": "ipython3",
   "version": "3.10.8"
  },
  "orig_nbformat": 4
 },
 "nbformat": 4,
 "nbformat_minor": 2
}
